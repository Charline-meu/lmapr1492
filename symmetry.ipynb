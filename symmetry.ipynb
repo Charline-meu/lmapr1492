{
 "cells": [
  {
   "cell_type": "markdown",
   "id": "7fce0b44",
   "metadata": {},
   "source": [
    "# Tâche 6"
   ]
  },
  {
   "cell_type": "code",
   "execution_count": 63,
   "id": "594a51ce",
   "metadata": {},
   "outputs": [],
   "source": [
    "from pymatgen import Structure\n",
    "from jupyter_jsmol.pymatgen import quick_view\n",
    "from pymatgen.ext.matproj import MPRester\n",
    "from pymatgen.symmetry.analyzer import SpacegroupAnalyzer\n",
    "from pymatgen.core.operations import SymmOp\n",
    "from pymatgen.symmetry.site_symmetries import *"
   ]
  },
  {
   "cell_type": "code",
   "execution_count": 64,
   "id": "3cc5fd52",
   "metadata": {},
   "outputs": [],
   "source": [
    "# Récupération de la structure\n",
    "\n",
    "with MPRester(\"msKcAm8eGLQeLLbWk7xJ\") as m:\n",
    "    # !!!!\n",
    "    # je me suis connectée sur l'ancien site de materials project car l'autre API key ne fonctionnait pas bien\n",
    "    # c'es pour ça que mon API key est différente que précédemment\n",
    "    # !!!!\n",
    "    \n",
    "    structure = m.get_structure_by_material_id(\"mp-961687\")\n",
    "    structure.to(filename = \"ZrSnPd.cif\")\n"
   ]
  },
  {
   "cell_type": "code",
   "execution_count": 65,
   "id": "d4211a78",
   "metadata": {
    "scrolled": true
   },
   "outputs": [
    {
     "data": {
      "application/vnd.jupyter.widget-view+json": {
       "model_id": "7b0a1760be864e08ad545f89e271a741",
       "version_major": 2,
       "version_minor": 0
      },
      "text/plain": [
       "JsmolView(layout=Layout(align_self='stretch', height='400px'))"
      ]
     },
     "metadata": {},
     "output_type": "display_data"
    }
   ],
   "source": [
    "# Visualisation\n",
    "\n",
    "view = quick_view(structure)\n",
    "display(view)"
   ]
  },
  {
   "cell_type": "code",
   "execution_count": 66,
   "id": "bff785c6",
   "metadata": {},
   "outputs": [],
   "source": [
    "# Toutes les symétries de le molécule\n",
    "\n",
    "sym = SpacegroupAnalyzer(structure).get_symmetry_operations()\n",
    "\n",
    "# Les 3 symétries choisies\n",
    "\n",
    "S1 = sym[3] # Roto-inversion; axe (-x-y-z,x,y)\n",
    "S2 = sym[6] # Roto-inversion; axe (y,x,-x-y-z)\n",
    "S3 = sym[7] # Plan miroir (z,y,x)\n",
    "\n",
    "\n",
    "# Atomes (et leurs coordonnées (trouvées sur MP))\n",
    "\n",
    "\n",
    "Zr = [0.50, 0.00, 0.00]\n",
    "Sn = [0.00, 0.00, 0.00]\n",
    "Pd = [0.75, 0.25, 0.75]\n",
    "\n",
    "# Application des symétries\n",
    "\n",
    "symetrie_Zr = S1.operate(Nb)\n",
    "symetrie_Sn = S2.operate(Sb)\n",
    "symetrie_Pd = S3.operate(Ru)"
   ]
  },
  {
   "cell_type": "markdown",
   "id": "aec96008",
   "metadata": {},
   "source": [
    "## 1: Opération de symétrie sur l'atome Zr"
   ]
  },
  {
   "cell_type": "code",
   "execution_count": 67,
   "id": "c138ebd6",
   "metadata": {},
   "outputs": [
    {
     "name": "stdout",
     "output_type": "stream",
     "text": [
      "Coordonées de départ de Zr: [0.5, 0.0, 0.0]\n",
      "\n",
      "Roto-inversion de centre (0,0,0) et d'axe (-x-y-z,x,y) :\n",
      "\n",
      "[[-1. -1. -1.]\n",
      " [ 1.  0.  0.]\n",
      " [ 0.  1.  0.]] * [0.5, 0.0, 0.0] + [0. 0. 0.] \n",
      "\n",
      "Coordonées après application de l'opération de symétrie : [0. 0. 0.]\n",
      "\n"
     ]
    },
    {
     "data": {
      "application/vnd.jupyter.widget-view+json": {
       "model_id": "48b0da7337f7429389365d7c5b2f6828",
       "version_major": 2,
       "version_minor": 0
      },
      "text/plain": [
       "JsmolView(layout=Layout(align_self='stretch', height='400px'))"
      ]
     },
     "metadata": {},
     "output_type": "display_data"
    }
   ],
   "source": [
    "print(\"Coordonées de départ de Zr: {}\\n\".format(Zr))\n",
    "print(\"Roto-inversion; axe (-x-y-z,x,y) :\\n\")\n",
    "print(S1.rotation_matrix, \"*\", Zr, '+', S1.translation_vector, \"\\n\")\n",
    "print(\"Coordonées après application de l'opération de symétrie : {}\\n\".format(symetrie_Zr))\n",
    "\n",
    "# Représentation:\n",
    "\n",
    "v1 = quick_view(structure)\n",
    "display(v1)\n",
    "v1.script(\"draw symop 8 {atomno=1}\")"
   ]
  },
  {
   "cell_type": "markdown",
   "id": "fcd0f30e",
   "metadata": {},
   "source": [
    "## 2: Opération de symétrie sur l'atome Sn"
   ]
  },
  {
   "cell_type": "code",
   "execution_count": 68,
   "id": "365f98c4",
   "metadata": {
    "scrolled": true
   },
   "outputs": [
    {
     "name": "stdout",
     "output_type": "stream",
     "text": [
      "Coordonées de départ de Sn: [0.0, 0.0, 0.0]\n",
      "\n",
      "Roto-inversion de centre (0,0,0) et d'axe (y,x,-x-y-z) :\n",
      "[[ 0.  1.  0.]\n",
      " [ 1.  0.  0.]\n",
      " [-1. -1. -1.]] * [0.0, 0.0, 0.0] + [0. 0. 0.] \n",
      "\n",
      "Coordonées après application de l'opération de symétrie : [ 0.   0.  -0.5]\n",
      "\n"
     ]
    },
    {
     "data": {
      "application/vnd.jupyter.widget-view+json": {
       "model_id": "127594b33aea44c0988eb7a771f8d3a2",
       "version_major": 2,
       "version_minor": 0
      },
      "text/plain": [
       "JsmolView(layout=Layout(align_self='stretch', height='400px'))"
      ]
     },
     "metadata": {},
     "output_type": "display_data"
    }
   ],
   "source": [
    "print(\"Coordonées de départ de Sn: {}\\n\".format(Sn))\n",
    "print(\"Roto-inversion; axe (y,x,-x-y-z) :\")\n",
    "print(S2.rotation_matrix, \"*\", Sn, '+', S2.translation_vector, \"\\n\")\n",
    "print(\"Coordonées après application de l'opération de symétrie : {}\\n\".format(symetrie_Sn))\n",
    "\n",
    "# Représentation:\n",
    "\n",
    "v1 = quick_view(structure)\n",
    "display(v1)\n",
    "v1.script(\"draw symop 4 {atomno=7}\")"
   ]
  },
  {
   "cell_type": "markdown",
   "id": "39b8522b",
   "metadata": {},
   "source": [
    "## 3: Opération de symétrie sur l'atome Pd"
   ]
  },
  {
   "cell_type": "code",
   "execution_count": 69,
   "id": "9f97f856",
   "metadata": {},
   "outputs": [
    {
     "name": "stdout",
     "output_type": "stream",
     "text": [
      "Coordonées de départ de Pd: [0.75, 0.25, 0.75]\n",
      "\n",
      "Plan miroir (z,y,x) : \n",
      "[[0. 0. 1.]\n",
      " [0. 1. 0.]\n",
      " [1. 0. 0.]] * [0.75, 0.25, 0.75] + [0. 0. 0.] \n",
      "\n",
      "Coordonées après application de l'opération de symétrie : [0.75 0.25 0.25]\n",
      "\n"
     ]
    },
    {
     "data": {
      "application/vnd.jupyter.widget-view+json": {
       "model_id": "5fc42b3618de4a43aaa39d99da197346",
       "version_major": 2,
       "version_minor": 0
      },
      "text/plain": [
       "JsmolView(layout=Layout(align_self='stretch', height='400px'))"
      ]
     },
     "metadata": {},
     "output_type": "display_data"
    }
   ],
   "source": [
    "print(\"Coordonées de départ de Pd: {}\\n\".format(Pd))\n",
    "print(\"Plan miroir (z,y,x) : \")\n",
    "print(S3.rotation_matrix, \"*\", Pd, '+', S3.translation_vector, \"\\n\")\n",
    "print(\"Coordonées après application de l'opération de symétrie : {}\\n\".format(symetrie_Pd))\n",
    "\n",
    "# Représentation:\n",
    "v1 = quick_view(structure)\n",
    "display(v1)\n",
    "v1.script(\"draw symop 7 {atomno=3}\")"
   ]
  },
  {
   "cell_type": "code",
   "execution_count": null,
   "id": "52433600",
   "metadata": {},
   "outputs": [],
   "source": []
  },
  {
   "cell_type": "code",
   "execution_count": null,
   "id": "4a4cce17",
   "metadata": {},
   "outputs": [],
   "source": []
  }
 ],
 "metadata": {
  "kernelspec": {
   "display_name": "Python 3",
   "language": "python",
   "name": "python3"
  },
  "language_info": {
   "codemirror_mode": {
    "name": "ipython",
    "version": 3
   },
   "file_extension": ".py",
   "mimetype": "text/x-python",
   "name": "python",
   "nbconvert_exporter": "python",
   "pygments_lexer": "ipython3",
   "version": "3.6.8"
  }
 },
 "nbformat": 4,
 "nbformat_minor": 5
}
