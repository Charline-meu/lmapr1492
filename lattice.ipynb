{
 "cells": [
  {
   "cell_type": "code",
   "execution_count": 33,
   "id": "5961dd1c",
   "metadata": {},
   "outputs": [
    {
     "name": "stdout",
     "output_type": "stream",
     "text": [
      "Requirement already satisfied: requests in /usr/local/lib/python3.6/site-packages\n",
      "Requirement already satisfied: idna<3,>=2.5 in /usr/local/lib/python3.6/site-packages (from requests)\n",
      "Requirement already satisfied: urllib3<1.27,>=1.21.1 in /usr/local/lib/python3.6/site-packages (from requests)\n",
      "Requirement already satisfied: chardet<5,>=3.0.2 in /usr/local/lib/python3.6/site-packages (from requests)\n",
      "Requirement already satisfied: certifi>=2017.4.17 in /usr/local/lib/python3.6/site-packages (from requests)\n",
      "Note: you may need to restart the kernel to use updated packages.\n"
     ]
    }
   ],
   "source": [
    "pip install requests\n"
   ]
  },
  {
   "cell_type": "code",
   "execution_count": 34,
   "id": "d8ed2aa4",
   "metadata": {},
   "outputs": [],
   "source": [
    "from pymatgen import MPRester\n",
    "\n",
    "mpr = MPRester(\"dBKBIgP5UqO5Io4SZRBXu0NlB4oxhJKH\")\n"
   ]
  },
  {
   "cell_type": "code",
   "execution_count": 35,
   "id": "41cda381",
   "metadata": {},
   "outputs": [],
   "source": [
    "data = mpr.get_data(\"mp-961687\", \"cif\")"
   ]
  },
  {
   "cell_type": "code",
   "execution_count": 36,
   "id": "fb91620f",
   "metadata": {},
   "outputs": [],
   "source": [
    "cif = data['cif']\n",
    "\n",
    "with open(\"ZrSnPd.cif\", \"w\") as f:\n",
    "    f.write(cif)"
   ]
  },
  {
   "cell_type": "code",
   "execution_count": 37,
   "id": "6968e6fd",
   "metadata": {},
   "outputs": [],
   "source": [
    "from pymatgen.core.structure import Structure\n",
    "\n",
    "structure = Structure.from_file(\"ZrSnPd.cif\")\n"
   ]
  },
  {
   "cell_type": "code",
   "execution_count": 38,
   "id": "ee9b1748",
   "metadata": {},
   "outputs": [
    {
     "name": "stdout",
     "output_type": "stream",
     "text": [
      "Vecteurs de base de la maille directe :\n",
      "6.405386 0.000000 0.000000\n",
      "0.000000 6.405386 0.000000\n",
      "0.000000 0.000000 6.405386\n",
      "Vecteurs de base de la maille réciproque :\n",
      "0.980922 -0.000000 0.000000\n",
      "0.000000 0.980922 0.000000\n",
      "-0.000000 -0.000000 0.980922\n"
     ]
    }
   ],
   "source": [
    "print(\"Vecteurs de base de la maille directe :\")\n",
    "print(structure.lattice)\n",
    "print(\"Vecteurs de base de la maille réciproque :\")\n",
    "print(structure.lattice.reciprocal_lattice)\n"
   ]
  },
  {
   "cell_type": "code",
   "execution_count": 39,
   "id": "1bcb5b63",
   "metadata": {},
   "outputs": [
    {
     "name": "stdout",
     "output_type": "stream",
     "text": [
      "Type de maille :\n",
      "cubic\n",
      "Système cristallin :\n",
      "cubic\n",
      "Groupe ponctuel :\n",
      "-43m\n"
     ]
    }
   ],
   "source": [
    "from pymatgen.symmetry.analyzer import SpacegroupAnalyzer\n",
    "\n",
    "analyzer = SpacegroupAnalyzer(structure)\n",
    "\n",
    "print(\"Type de maille :\")\n",
    "print(analyzer.get_lattice_type())\n",
    "\n",
    "print(\"Système cristallin :\")\n",
    "print(analyzer.get_crystal_system())\n",
    "\n",
    "print(\"Groupe ponctuel :\")\n",
    "print(analyzer.get_point_group_symbol())"
   ]
  },
  {
   "cell_type": "code",
   "execution_count": null,
   "id": "7fb0c784",
   "metadata": {},
   "outputs": [],
   "source": [
    "\n"
   ]
  },
  {
   "cell_type": "code",
   "execution_count": null,
   "id": "cbddef10",
   "metadata": {},
   "outputs": [],
   "source": []
  }
 ],
 "metadata": {
  "kernelspec": {
   "display_name": "Python 3",
   "language": "python",
   "name": "python3"
  },
  "language_info": {
   "codemirror_mode": {
    "name": "ipython",
    "version": 3
   },
   "file_extension": ".py",
   "mimetype": "text/x-python",
   "name": "python",
   "nbconvert_exporter": "python",
   "pygments_lexer": "ipython3",
   "version": "3.6.8"
  }
 },
 "nbformat": 4,
 "nbformat_minor": 5
}
